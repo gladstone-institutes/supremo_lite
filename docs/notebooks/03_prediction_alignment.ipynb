{
 "cells": [
  {
   "cell_type": "markdown",
   "id": "0",
   "metadata": {},
   "source": [
    "# Prediction Alignment: From Sequences to Aligned Predictions\n",
    "\n",
    "Complete workflow from generating variant sequences to running model predictions and aligning them for comparison. Core functionality for analyzing how genetic variants affect model predictions.\n",
    "\n",
    "## What You'll Learn\n",
    "\n",
    "- Generate reference and alternate sequences around variants\n",
    "- Run mock genomic models (1D and 2D predictions)\n",
    "- Align predictions to account for coordinate changes from variants\n",
    "- Visualize prediction differences between reference and alternate alleles\n",
    "\n",
    "## The Complete Workflow\n",
    "\n",
    "```\n",
    "Reference Genome + VCF\n",
    "        ↓\n",
    "get_alt_ref_sequences()\n",
    "        ↓\n",
    "Reference & Alternate Sequences\n",
    "        ↓\n",
    "TestModel / TestModel2D\n",
    "        ↓\n",
    "Reference & Alternate Predictions\n",
    "        ↓\n",
    "align_predictions_by_coordinate()\n",
    "        ↓\n",
    "Aligned Predictions (ready for comparison!)\n",
    "```"
   ]
  },
  {
   "cell_type": "markdown",
   "id": "1",
   "metadata": {},
   "source": [
    "## Setup"
   ]
  },
  {
   "cell_type": "code",
   "execution_count": 67,
   "id": "2",
   "metadata": {},
   "outputs": [
    {
     "name": "stdout",
     "output_type": "stream",
     "text": [
      "supremo_lite version: 0.5.4\n",
      "PyTorch available: True\n",
      "\n",
      "Loaded 8 variants from test data\n"
     ]
    }
   ],
   "source": [
    "import supremo_lite as sl\n",
    "from supremo_lite.mock_models import TestModel, TestModel2D, TORCH_AVAILABLE\n",
    "import numpy as np\n",
    "import matplotlib.pyplot as plt\n",
    "import seaborn as sns\n",
    "from pyfaidx import Fasta\n",
    "import os\n",
    "\n",
    "# Set plotting style\n",
    "sns.set_style(\"whitegrid\")\n",
    "\n",
    "# Check PyTorch availability\n",
    "if not TORCH_AVAILABLE:\n",
    "    raise ImportError(\"PyTorch is required for this notebook. Install with: pip install torch\")\n",
    "\n",
    "print(f\"supremo_lite version: {sl.__version__}\")\n",
    "print(f\"PyTorch available: {TORCH_AVAILABLE}\")\n",
    "\n",
    "# Load test data\n",
    "test_data_dir = \"../../tests/data\"\n",
    "reference = Fasta(os.path.join(test_data_dir, \"test_genome.fa\"))\n",
    "variants = sl.read_vcf(os.path.join(test_data_dir, \"multi\", \"multi.vcf\"))\n",
    "\n",
    "print(f\"\\nLoaded {len(variants)} variants from test data\")"
   ]
  },
  {
   "cell_type": "markdown",
   "id": "3",
   "metadata": {},
   "source": [
    "## Step 1: Generate Reference and Alternate Sequences\n",
    "\n",
    "First, we create sequence windows around each variant:"
   ]
  },
  {
   "cell_type": "code",
   "execution_count": 68,
   "id": "4",
   "metadata": {},
   "outputs": [
    {
     "name": "stdout",
     "output_type": "stream",
     "text": [
      "Generated sequences:\n",
      "  Reference sequences shape: torch.Size([8, 40, 4])\n",
      "  Alternate sequences shape: torch.Size([8, 40, 4])\n",
      "  Number of variants: 8\n",
      "\n",
      "DEL variant metadata:\n",
      "{'chrom': 'chr1', 'window_start': 0, 'window_end': 40, 'variant_pos0': 10, 'variant_pos1': 11, 'ref': 'TATTTTCGAGAAT', 'alt': 'T', 'variant_type': 'DEL'}\n"
     ]
    }
   ],
   "source": [
    "# Generate sequences around first variant\n",
    "# We'll use a 20bp window (sufficient for our mock models)\n",
    "seq_len = 40\n",
    "\n",
    "# Note: get_alt_ref_sequences is a generator that yields chunks\n",
    "results = list(sl.get_alt_ref_sequences(\n",
    "    reference_fn=reference,\n",
    "    variants_fn=variants, \n",
    "    seq_len=seq_len,\n",
    "    encode=True  # Get encoded tensors for models\n",
    "))\n",
    "\n",
    "# Unpack from the first chunk\n",
    "alt_seqs, ref_seqs, metadata = results[0]\n",
    "\n",
    "print(f\"Generated sequences:\")\n",
    "print(f\"  Reference sequences shape: {ref_seqs.shape}\")\n",
    "print(f\"  Alternate sequences shape: {alt_seqs.shape}\")\n",
    "print(f\"  Number of variants: {len(metadata)}\")\n",
    "\n",
    "print(\"\\nDEL variant metadata:\")\n",
    "print(metadata.iloc[2].to_dict())"
   ]
  },
  {
   "cell_type": "markdown",
   "id": "5",
   "metadata": {},
   "source": [
    "## Understanding Mock Models\n",
    "\n",
    "Before running predictions, let's understand the mock model architectures:\n",
    "\n",
    "### TestModel (1D Predictions)\n",
    "- **Input**: Sequences of shape `(batch, seq_len, 4)`\n",
    "- **Output**: Predictions of shape `(batch, n_targets, n_bins)`\n",
    "- **Features**:\n",
    "  - `bin_length`: Predictions at lower resolution (e.g., 1 prediction per 2bp)\n",
    "  - `crop_length`: Edge bases removed before prediction\n",
    "  - Multiple targets (e.g., different histone marks)\n",
    "\n",
    "### TestModel2D (2D Contact Map Predictions)\n",
    "- **Input**: Sequences of shape `(batch, seq_len, 4)`\n",
    "- **Output**: Predictions of shape `(batch, n_targets, n_bins, n_bins)`\n",
    "- **Features**:\n",
    "  - Contact predictions between genomic positions (full matrix)\n",
    "  - `bin_length` and `crop_length` like 1D model\n",
    "  - Returns full symmetric contact matrix"
   ]
  },
  {
   "cell_type": "markdown",
   "id": "6",
   "metadata": {},
   "source": [
    "## Step 2: Run 1D Predictions with TestModel"
   ]
  },
  {
   "cell_type": "code",
   "execution_count": 69,
   "id": "7",
   "metadata": {},
   "outputs": [
    {
     "name": "stdout",
     "output_type": "stream",
     "text": [
      "TestModel (1D) configuration:\n",
      "  Targets: 1\n",
      "  Bin size: 2\n",
      "  Crop length: 2\n",
      "  Input sequence length: 40\n",
      "  Effective sequence length: 36\n",
      "  Number of bins: 18\n",
      "\n",
      "Prediction shapes:\n",
      "  Reference: torch.Size([8, 1, 18])\n",
      "  Alternate: torch.Size([8, 1, 18])\n",
      "  Format: (batch=8, targets=1, bins=18)\n"
     ]
    }
   ],
   "source": [
    "# Initialize 1D model\n",
    "model_1d = TestModel(\n",
    "    seq_length=40,\n",
    "    n_targets=1,      # Predict 2 different signals\n",
    "    bin_length=2,     # 1 prediction per 4bp\n",
    "    crop_length=2     # Remove 2bp from each edge\n",
    ")\n",
    "\n",
    "print(\"TestModel (1D) configuration:\")\n",
    "print(f\"  Targets: {model_1d.n_targets}\")\n",
    "print(f\"  Bin size: {model_1d.bin_length}\")\n",
    "print(f\"  Crop length: {model_1d.crop_length}\")\n",
    "print(f\"  Input sequence length: {seq_len}\")\n",
    "print(f\"  Effective sequence length: {seq_len - 2*model_1d.crop_length}\")\n",
    "print(f\"  Number of bins: {(seq_len - 2*model_1d.crop_length) // model_1d.bin_length}\")\n",
    "\n",
    "# Transpose from (batch, seq_len, 4) to (batch, 4, seq_len) for model\n",
    "ref_seqs = ref_seqs.permute(0, 2, 1)\n",
    "alt_seqs = alt_seqs.permute(0, 2, 1)\n",
    "\n",
    "# Run predictions\n",
    "ref_preds_1d = model_1d(ref_seqs)\n",
    "alt_preds_1d = model_1d(alt_seqs)\n",
    "\n",
    "print(f\"\\nPrediction shapes:\")\n",
    "print(f\"  Reference: {ref_preds_1d.shape}\")\n",
    "print(f\"  Alternate: {alt_preds_1d.shape}\")\n",
    "print(f\"  Format: (batch={ref_preds_1d.shape[0]}, targets={ref_preds_1d.shape[1]}, bins={ref_preds_1d.shape[2]})\")"
   ]
  },
  {
   "cell_type": "markdown",
   "id": "8",
   "metadata": {},
   "source": [
    "## Step 3: Align 1D Predictions\n",
    "\n",
    "Now we align the predictions to account for coordinate changes caused by the variant:"
   ]
  },
  {
   "cell_type": "code",
   "execution_count": 70,
   "id": "9",
   "metadata": {},
   "outputs": [
    {
     "name": "stdout",
     "output_type": "stream",
     "text": [
      "Aligned prediction shapes:\n",
      "  Reference aligned: torch.Size([1, 18])\n",
      "  Alternate aligned: torch.Size([1, 18])\n",
      "\n",
      "Variant info:\n",
      "  Type: DEL\n",
      "  TATTTTCGAGAAT → T\n",
      "  Position: chr1:11\n"
     ]
    }
   ],
   "source": [
    "# Align predictions\n",
    "var_idx = 2\n",
    "\n",
    "ref_aligned_1d, alt_aligned_1d = sl.align_predictions_by_coordinate(\n",
    "    ref_preds=ref_preds_1d[var_idx],\n",
    "    alt_preds=alt_preds_1d[var_idx],\n",
    "    metadata_row=metadata.iloc[var_idx].to_dict(),\n",
    "    prediction_type=\"1D\",\n",
    "    bin_size=model_1d.bin_length\n",
    ")\n",
    "\n",
    "print(f\"Aligned prediction shapes:\")\n",
    "print(f\"  Reference aligned: {ref_aligned_1d.shape}\")\n",
    "print(f\"  Alternate aligned: {alt_aligned_1d.shape}\")\n",
    "\n",
    "print(f\"\\nVariant info:\")\n",
    "print(f\"  Type: {metadata.iloc[var_idx]['variant_type']}\")\n",
    "print(f\"  {metadata.iloc[var_idx]['ref']} → {metadata.iloc[var_idx]['alt']}\")\n",
    "print(f\"  Position: {metadata.iloc[var_idx]['chrom']}:{metadata.iloc[var_idx]['variant_pos1']}\")"
   ]
  },
  {
   "cell_type": "markdown",
   "id": "10",
   "metadata": {},
   "source": [
    "## Visualizing 1D Aligned Predictions\n",
    "\n",
    "Let's visualize how the predictions compare:"
   ]
  },
  {
   "cell_type": "code",
   "execution_count": 71,
   "id": "11",
   "metadata": {
    "scrolled": true
   },
   "outputs": [
    {
     "data": {
      "image/png": "[encoded data removed]",
      "text/plain": [
       "<Figure size 1200x400 with 2 Axes>"
      ]
     },
     "metadata": {},
     "output_type": "display_data"
    },
    {
     "name": "stdout",
     "output_type": "stream",
     "text": [
      "\n",
      "Interpretation:\n",
      "• Left: Reference allele predictions (blue bars) - all 20 bins present\n",
      "• Right: Alternate allele predictions (orange bars) - notice the GAP\n",
      "• The missing bars in the alternate plot represent the deletion\n",
      "  - Bins 5-10 are masked (NaN values) because the sequence was deleted\n",
      "  - This maintains coordinate alignment between reference and alternate\n",
      "• With real models, you would see prediction changes around the deletion\n"
     ]
    }
   ],
   "source": [
    "# Convert to numpy for plotting\n",
    "ref_1d_np = ref_aligned_1d.cpu().numpy() if hasattr(ref_aligned_1d, 'cpu') else ref_aligned_1d\n",
    "alt_1d_np = alt_aligned_1d.cpu().numpy() if hasattr(alt_aligned_1d, 'cpu') else alt_aligned_1d\n",
    "\n",
    "# Create figure with two panels: ref and alt\n",
    "fig, axes = plt.subplots(1, 2, figsize=(12, 4))\n",
    "\n",
    "# Calculate bin positions (integer indices)\n",
    "bin_indices = np.arange(len(ref_1d_np[0]))\n",
    "\n",
    "# Reference predictions\n",
    "ax_ref = axes[0]\n",
    "ax_ref.bar(bin_indices, ref_1d_np[0], color='steelblue', alpha=0.7, edgecolor='navy')\n",
    "ax_ref.set_xlabel('Bin Index', fontsize=11)\n",
    "ax_ref.set_ylabel('Prediction Value', fontsize=11)\n",
    "ax_ref.set_title('Reference', fontsize=12, fontweight='bold')\n",
    "ax_ref.grid(True, alpha=0.3, axis='y')\n",
    "ax_ref.set_xticks(bin_indices[::2])  # Show every other tick to avoid crowding\n",
    "\n",
    "# Alternate predictions\n",
    "ax_alt = axes[1]\n",
    "ax_alt.bar(bin_indices, alt_1d_np[0], color='darkorange', alpha=0.7, edgecolor='darkred')\n",
    "ax_alt.set_xlabel('Bin Index', fontsize=11)\n",
    "ax_alt.set_ylabel('Prediction Value', fontsize=11)\n",
    "ax_alt.set_title('Alternate', fontsize=12, fontweight='bold')\n",
    "ax_alt.grid(True, alpha=0.3, axis='y')\n",
    "ax_alt.set_xticks(bin_indices[::2])  # Show every other tick to avoid crowding\n",
    "\n",
    "# Add annotation pointing to the gap where deletion occurred\n",
    "masked_bins = np.isnan(alt_1d_np[0])\n",
    "if np.any(masked_bins):\n",
    "    masked_indices = bin_indices[masked_bins]\n",
    "    gap_start = masked_indices[0]\n",
    "    gap_end = masked_indices[-1]\n",
    "    gap_center = (gap_start + gap_end) / 2\n",
    "    \n",
    "    ax_alt.annotate(f'Deletion masked\\n(bins {gap_start}-{gap_end})',\n",
    "                   xy=(gap_center, 0.5),\n",
    "                   xytext=(gap_center + 3, 0.7),\n",
    "                   fontsize=10,\n",
    "                   fontweight='bold',\n",
    "                   color='red',\n",
    "                   ha='left',\n",
    "                   arrowprops=dict(arrowstyle='->', color='red', lw=2))\n",
    "\n",
    "# Keep y-axis limits consistent\n",
    "y_min = np.nanmin([ref_1d_np[0].min(), np.nanmin(alt_1d_np[0])])\n",
    "y_max = np.nanmax([ref_1d_np[0].max(), np.nanmax(alt_1d_np[0])])\n",
    "for ax in axes:\n",
    "    ax.set_ylim([y_min - 0.1, y_max + 0.1])\n",
    "\n",
    "fig.suptitle(f'1D Prediction Alignment: {metadata.iloc[var_idx][\"variant_type\"]} Variant '\n",
    "             f'({metadata.iloc[var_idx][\"ref\"]} → {metadata.iloc[var_idx][\"alt\"]})',\n",
    "             fontsize=13, fontweight='bold')\n",
    "plt.tight_layout()\n",
    "plt.show()\n",
    "\n",
    "print(\"\\nInterpretation:\")\n",
    "print(\"• Left: Reference allele predictions (blue bars) - all 20 bins present\")\n",
    "print(\"• Right: Alternate allele predictions (orange bars) - notice the GAP\")\n",
    "print(\"• The missing bars in the alternate plot represent the deletion\")\n",
    "print(\"  - Bins 5-10 are masked (NaN values) because the sequence was deleted\")\n",
    "print(\"  - This maintains coordinate alignment between reference and alternate\")\n",
    "print(\"• With real models, you would see prediction changes around the deletion\")"
   ]
  },
  {
   "cell_type": "markdown",
   "id": "5b012e62-3f0c-4174-880e-55a7beaef96f",
   "metadata": {},
   "source": [
    "The ratio of the reference and alternative predictions can now be taken while ignoring the bins where the actual sequence was different."
   ]
  },
  {
   "cell_type": "markdown",
   "id": "12",
   "metadata": {},
   "source": [
    "## Step 4: Run 2D Predictions with TestModel2D\n",
    "\n",
    "Now let's predict contact maps (2D predictions):"
   ]
  },
  {
   "cell_type": "code",
   "execution_count": 72,
   "id": "13",
   "metadata": {},
   "outputs": [
    {
     "name": "stdout",
     "output_type": "stream",
     "text": [
      "TestModel2D (Contact Map) configuration:\n",
      "  Targets: 1\n",
      "  Bin size: 2\n",
      "  Crop length: 2\n",
      "  Input sequence length: 40\n",
      "  Number of bins (after cropping): 18\n",
      "\n",
      "2D Prediction shapes:\n",
      "  Reference: torch.Size([8, 1, 18, 18])\n",
      "  Alternate: torch.Size([8, 1, 18, 18])\n",
      "  Format: (batch=8, targets=1, bins=18, bins=18)\n"
     ]
    }
   ],
   "source": [
    "# Initialize 2D model\n",
    "model_2d = TestModel2D(\n",
    "    seq_length=40,\n",
    "    n_targets=1,     \n",
    "    bin_length=2,      # 1 prediction per 2bp\n",
    "    crop_length=2      # Remove 2bp from each edge\n",
    ")\n",
    "\n",
    "n_bins = model_2d.n_final_bins\n",
    "\n",
    "print(\"TestModel2D (Contact Map) configuration:\")\n",
    "print(f\"  Targets: {model_2d.n_targets}\")\n",
    "print(f\"  Bin size: {model_2d.bin_length}\")\n",
    "print(f\"  Crop length: {model_2d.crop_length}\")\n",
    "print(f\"  Input sequence length: {seq_len}\")\n",
    "print(f\"  Number of bins (after cropping): {n_bins}\")\n",
    "\n",
    "# Run predictions (sequences already transposed from 1D section)\n",
    "ref_preds_2d = model_2d(ref_seqs)\n",
    "alt_preds_2d = model_2d(alt_seqs)\n",
    "\n",
    "print(f\"\\n2D Prediction shapes:\")\n",
    "print(f\"  Reference: {ref_preds_2d.shape}\")\n",
    "print(f\"  Alternate: {alt_preds_2d.shape}\")\n",
    "print(f\"  Format: (batch={ref_preds_2d.shape[0]}, targets={ref_preds_2d.shape[1]}, bins={ref_preds_2d.shape[2]}, bins={ref_preds_2d.shape[3]})\")"
   ]
  },
  {
   "cell_type": "markdown",
   "id": "14",
   "metadata": {},
   "source": [
    "## Step 5: Align 2D Predictions\n",
    "\n",
    "Aligning 2D contact maps is more complex because variants affect both dimensions:"
   ]
  },
  {
   "cell_type": "code",
   "execution_count": 73,
   "id": "15",
   "metadata": {},
   "outputs": [
    {
     "name": "stdout",
     "output_type": "stream",
     "text": [
      "Aligned 2D prediction shapes:\n",
      "  Reference aligned: torch.Size([18, 18])\n",
      "  Alternate aligned: torch.Size([18, 18])\n",
      "  Format: (n_bins, n_bins) - square matrix\n"
     ]
    }
   ],
   "source": [
    "# Align 2D predictions for the deletion variant\n",
    "ref_aligned_2d, alt_aligned_2d = sl.align_predictions_by_coordinate(\n",
    "    ref_preds=ref_preds_2d[var_idx, 0],  # First target\n",
    "    alt_preds=alt_preds_2d[var_idx, 0],\n",
    "    metadata_row=metadata.iloc[var_idx].to_dict(),\n",
    "    prediction_type=\"2D\",\n",
    "    bin_size=model_2d.bin_length,\n",
    "    matrix_size=n_bins\n",
    ")\n",
    "\n",
    "print(f\"Aligned 2D prediction shapes:\")\n",
    "print(f\"  Reference aligned: {ref_aligned_2d.shape}\")\n",
    "print(f\"  Alternate aligned: {alt_aligned_2d.shape}\")\n",
    "print(f\"  Format: (n_bins, n_bins) - square matrix\")"
   ]
  },
  {
   "cell_type": "markdown",
   "id": "16",
   "metadata": {},
   "source": [
    "## Visualizing 2D Aligned Predictions (Contact Maps)\n",
    "\n",
    "Contact maps show pairwise interactions between genomic positions:"
   ]
  },
  {
   "cell_type": "code",
   "execution_count": 74,
   "id": "17",
   "metadata": {},
   "outputs": [
    {
     "data": {
      "image/png": "[encoded data removed]",
      "text/plain": [
       "<Figure size 1200x500 with 4 Axes>"
      ]
     },
     "metadata": {},
     "output_type": "display_data"
    },
    {
     "name": "stdout",
     "output_type": "stream",
     "text": [
      "\n",
      "Interpretation:\n",
      "• Left: Reference allele contact map (all interactions present)\n",
      "• Right: Alternate allele contact map - notice the cross-pattern of missing data\n",
      "• The missing rows and columns represent the deletion\n",
      "  - Rows/columns 5-10 are masked (NaN)\n",
      "  - 2D masking requires removing entire rows AND columns to maintain coordinate alignment\n",
      "• With real models, you would see changes in contact patterns around the deletion\n"
     ]
    }
   ],
   "source": [
    "# Convert to numpy\n",
    "ref_2d_np = ref_aligned_2d.cpu().numpy() if hasattr(ref_aligned_2d, 'cpu') else ref_aligned_2d\n",
    "alt_2d_np = alt_aligned_2d.cpu().numpy() if hasattr(alt_aligned_2d, 'cpu') else alt_aligned_2d\n",
    "\n",
    "# Create figure with two panels: ref and alt\n",
    "fig, axes = plt.subplots(1, 2, figsize=(12, 5))\n",
    "\n",
    "# Reference contact map\n",
    "im1 = axes[0].imshow(ref_2d_np, cmap='Reds', vmin=0, vmax=1, origin='lower', interpolation='nearest')\n",
    "axes[0].set_title('Reference Contact Map', fontsize=12, fontweight='bold')\n",
    "axes[0].set_xlabel('Bin position', fontsize=11)\n",
    "axes[0].set_ylabel('Bin position', fontsize=11)\n",
    "plt.colorbar(im1, ax=axes[0], label='Contact strength')\n",
    "\n",
    "# Alternate contact map\n",
    "im2 = axes[1].imshow(alt_2d_np, cmap='Reds', vmin=0, vmax=1, origin='lower', interpolation='nearest')\n",
    "axes[1].set_title('Alternate Contact Map', fontsize=12, fontweight='bold')\n",
    "axes[1].set_xlabel('Bin position', fontsize=11)\n",
    "axes[1].set_ylabel('Bin position', fontsize=11)\n",
    "plt.colorbar(im2, ax=axes[1], label='Contact strength')\n",
    "\n",
    "# Add annotation pointing to masked regions in alternate\n",
    "# Find masked rows/columns (where entire row or column is NaN)\n",
    "masked_rows = np.all(np.isnan(alt_2d_np), axis=1)\n",
    "if np.any(masked_rows):\n",
    "    masked_indices = np.where(masked_rows)[0]\n",
    "    gap_start = masked_indices[0]\n",
    "    gap_end = masked_indices[-1]\n",
    "    \n",
    "    # Add horizontal and vertical lines to show the cross-pattern\n",
    "    for idx in masked_indices:\n",
    "        axes[1].axhline(y=idx, color='red', linestyle='--', linewidth=1, alpha=0.3)\n",
    "        axes[1].axvline(x=idx, color='red', linestyle='--', linewidth=1, alpha=0.3)\n",
    "    \n",
    "    # Add annotation\n",
    "    axes[1].annotate(f'Deletion masked\\n(rows/cols {gap_start}-{gap_end})',\n",
    "                    xy=(gap_start + 1, n_bins - 3),\n",
    "                    xytext=(gap_end + 2, n_bins - 5),\n",
    "                    fontsize=10,\n",
    "                    fontweight='bold',\n",
    "                    color='red',\n",
    "                    ha='left',\n",
    "                    arrowprops=dict(arrowstyle='->', color='red', lw=2))\n",
    "\n",
    "fig.suptitle(f'2D Contact Map Alignment: {metadata.iloc[var_idx][\"variant_type\"]} Variant '\n",
    "             f'({metadata.iloc[var_idx][\"ref\"]} → {metadata.iloc[var_idx][\"alt\"]})',\n",
    "             fontsize=13, fontweight='bold')\n",
    "plt.tight_layout()\n",
    "plt.show()\n",
    "\n",
    "print(\"\\nInterpretation:\")\n",
    "print(\"• Left: Reference allele contact map (all interactions present)\")\n",
    "print(\"• Right: Alternate allele contact map - notice the cross-pattern of missing data\")\n",
    "print(\"• The missing rows and columns represent the deletion\")\n",
    "print(f\"  - Rows/columns {np.where(masked_rows)[0][0]}-{np.where(masked_rows)[0][-1]} are masked (NaN)\")\n",
    "print(\"  - 2D masking requires removing entire rows AND columns to maintain coordinate alignment\")\n",
    "print(\"• With real models, you would see changes in contact patterns around the deletion\")"
   ]
  },
  {
   "cell_type": "markdown",
   "id": "22",
   "metadata": {},
   "source": [
    "## Key Concepts Summary\n",
    "\n",
    "### Model Architecture Components\n",
    "\n",
    "1. **Binning (`bin_length`)**\n",
    "   - Reduces resolution: 1 prediction per N base pairs\n",
    "   - Example: `bin_length=2` means 2bp → 1 prediction\n",
    "   - More efficient than per-base predictions\n",
    "\n",
    "2. **Edge Cropping (`crop_length`)**\n",
    "   - Removes bases from sequence edges before prediction\n",
    "   - Accounts for edge effects in convolutional models\n",
    "   - Example: `crop_length=1` removes 1bp from each end\n",
    "\n",
    "### Prediction Alignment\n",
    "\n",
    "- **Why align?** Indels shift genomic coordinates between ref and alt, and you should only compare predictions for bins where the sequences were the same\n",
    "- **How?** Mask bins and shift bins to maintain coordinate correspondence\n",
    "- **1D alignment**: Masks affected bins in the prediction vector\n",
    "- **2D alignment**: Masks affected rows AND columns (cross-pattern for all indels)\n",
    "\n",
    "### Output Interpretation\n",
    "\n",
    "- **Solid lines/values**: Valid predictions at those genomic positions\n",
    "- **Gaps/NaN**: Regions affected by indels\n",
    "- **Differences**: Where variant changes model predictions"
   ]
  },
  {
   "cell_type": "markdown",
   "id": "23",
   "metadata": {
    "jp-MarkdownHeadingCollapsed": true
   },
   "source": "## Summary\n\nIn this notebook, you learned the complete prediction alignment workflow:\n\n1. Generate sequences - Create ref/alt windows around variants\n2. 1D predictions - Run TestModel for genomic signal predictions\n3. 2D predictions - Run TestModel2D for contact map predictions\n4. Align predictions - Account for coordinate changes from variants\n5. Visualize results - Compare ref vs alt predictions\n6. Understand models - Binning, cropping, diagonal masking concepts\n\nThis workflow is the foundation for analyzing how genetic variants affect genomic predictions."
  }
 ],
 "metadata": {
  "kernelspec": {
   "display_name": "Python 3 (ipykernel)",
   "language": "python",
   "name": "python3"
  },
  "language_info": {
   "codemirror_mode": {
    "name": "ipython",
    "version": 3
   },
   "file_extension": ".py",
   "mimetype": "text/x-python",
   "name": "python",
   "nbconvert_exporter": "python",
   "pygments_lexer": "ipython3",
   "version": "3.9.23"
  }
 },
 "nbformat": 4,
 "nbformat_minor": 5
}