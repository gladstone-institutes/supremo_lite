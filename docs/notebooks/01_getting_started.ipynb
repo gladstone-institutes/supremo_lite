{
 "cells": [
  {
   "cell_type": "markdown",
   "id": "0",
   "metadata": {},
   "source": [
    "# Getting Started with supremo_lite\n",
    "\n",
    "Welcome to supremo_lite! This notebook will introduce you to the core concepts and basic usage of the package.\n",
    "\n",
    "## What is supremo_lite?\n",
    "\n",
    "supremo_lite is a lightweight Python package for:\n",
    "- 🧬 **Generating personalized genome sequences** from reference genomes and variant files\n",
    "- 🎯 **Creating variant-centered sequence windows** for model predictions\n",
    "- 🧪 **Performing in-silico saturation mutagenesis** for predictive modeling\n",
    "- 📊 **Aligning predictions** across reference and variant sequences\n",
    "\n",
    "It's designed to be memory-efficient and model-agnostic, supporting both PyTorch tensors and NumPy arrays."
   ]
  },
  {
   "cell_type": "markdown",
   "id": "1",
   "metadata": {},
   "source": [
    "## Installation\n",
    "\n",
    "If you haven't already installed supremo_lite:\n",
    "\n",
    "```bash\n",
    "# Install from GitHub (latest release)\n",
    "pip install git+https://github.com/gladstone-institutes/supremo_lite.git\n",
    "\n",
    "# Or for development\n",
    "pip install -e .\n",
    "```"
   ]
  },
  {
   "cell_type": "markdown",
   "id": "2",
   "metadata": {},
   "source": [
    "## Basic Imports"
   ]
  },
  {
   "cell_type": "code",
   "execution_count": null,
   "id": "3",
   "metadata": {},
   "outputs": [],
   "source": [
    "import supremo_lite as sl\n",
    "import numpy as np\n",
    "import matplotlib.pyplot as plt\n",
    "from pyfaidx import Fasta\n",
    "import pandas as pd\n",
    "\n",
    "# Check PyTorch availability\n",
    "print(f\"supremo_lite version: {sl.__version__}\")\n",
    "print(f\"PyTorch available: {sl.TORCH_AVAILABLE}\")"
   ]
  },
  {
   "cell_type": "markdown",
   "id": "4",
   "metadata": {},
   "source": [
    "## Understanding DNA Sequence Encoding\n",
    "\n",
    "supremo_lite uses **one-hot encoding** to convert DNA sequences into numerical arrays that can be used by machine learning models.\n",
    "\n",
    "### Default Encoding Scheme\n",
    "\n",
    "Each nucleotide is represented as a 4-dimensional vector:\n",
    "- **A** = [1, 0, 0, 0] (position 0)\n",
    "- **C** = [0, 1, 0, 0] (position 1)\n",
    "- **G** = [0, 0, 1, 0] (position 2)\n",
    "- **T** = [0, 0, 0, 1] (position 3)\n",
    "- **N** (or unknown) = [0, 0, 0, 0]\n",
    "\n",
    "Let's visualize this:"
   ]
  },
  {
   "cell_type": "code",
   "execution_count": null,
   "id": "5",
   "metadata": {},
   "outputs": [],
   "source": [
    "# Example sequence\n",
    "sequence = \"ATCGATCG\"\n",
    "\n",
    "# Encode the sequence\n",
    "encoded = sl.encode_seq(sequence)\n",
    "\n",
    "print(f\"Original sequence: {sequence}\")\n",
    "print(f\"Encoded shape: {encoded.shape}\")\n",
    "print(f\"\\nEncoded array:\")\n",
    "print(encoded)\n",
    "\n",
    "# Visualize the encoding\n",
    "fig, ax = plt.subplots(figsize=(10, 4))\n",
    "im = ax.imshow(encoded.T, cmap='Blues', aspect='auto')\n",
    "ax.set_yticks([0, 1, 2, 3])\n",
    "ax.set_yticklabels(['A', 'C', 'G', 'T'])\n",
    "ax.set_xticks(range(len(sequence)))\n",
    "ax.set_xticklabels(list(sequence))\n",
    "ax.set_xlabel('Position in sequence')\n",
    "ax.set_ylabel('Nucleotide channel')\n",
    "ax.set_title('One-Hot Encoding Visualization')\n",
    "plt.colorbar(im, ax=ax, label='Value (0 or 1)')\n",
    "plt.tight_layout()\n",
    "plt.show()\n",
    "\n",
    "print(\"\\nNotice: Each position has exactly one '1' (one-hot)\")"
   ]
  },
  {
   "cell_type": "markdown",
   "id": "6",
   "metadata": {},
   "source": [
    "## Loading Test Data\n",
    "\n",
    "For this tutorial, we'll use small test data included with the package. This allows for quick demonstrations without requiring large genomic datasets."
   ]
  },
  {
   "cell_type": "code",
   "execution_count": null,
   "id": "7",
   "metadata": {},
   "outputs": [],
   "source": [
    "import os\n",
    "\n",
    "# Find the test data directory\n",
    "# Assuming we're in the package directory structure\n",
    "test_data_dir = \"../../tests/data\"\n",
    "\n",
    "# Load reference genome\n",
    "reference_path = os.path.join(test_data_dir, \"test_genome.fa\")\n",
    "reference = Fasta(reference_path)\n",
    "\n",
    "print(\"Reference genome chromosomes:\")\n",
    "for chrom in reference.keys():\n",
    "    seq_len = len(reference[chrom])\n",
    "    print(f\"  {chrom}: {seq_len} bp\")\n",
    "\n",
    "# Show first 80 bp of chr1\n",
    "print(f\"\\nchr1 sequence (first 80 bp):\")\n",
    "print(reference['chr1'][:80].seq)"
   ]
  },
  {
   "cell_type": "markdown",
   "id": "8",
   "metadata": {},
   "source": [
    "## Reading VCF Files\n",
    "\n",
    "supremo_lite provides utilities to read VCF (Variant Call Format) files:"
   ]
  },
  {
   "cell_type": "code",
   "execution_count": null,
   "id": "9",
   "metadata": {},
   "outputs": [],
   "source": [
    "# Load SNP variants\n",
    "snp_vcf_path = os.path.join(test_data_dir, \"snp\", \"snp.vcf\")\n",
    "snp_variants = sl.read_vcf(snp_vcf_path)\n",
    "\n",
    "print(\"SNP variants:\")\n",
    "print(snp_variants)\n",
    "print(f\"\\nLoaded {len(snp_variants)} SNP variant(s)\")"
   ]
  },
  {
   "cell_type": "markdown",
   "id": "10",
   "metadata": {},
   "source": [
    "## Basic Usage: Creating a Personalized Genome\n",
    "\n",
    "The most fundamental operation is applying variants to a reference genome to create a personalized genome:"
   ]
  },
  {
   "cell_type": "code",
   "execution_count": null,
   "id": "11",
   "metadata": {},
   "outputs": [],
   "source": [
    "# Create personalized genome (returns encoded sequences by default)\n",
    "personal_genome = sl.get_personal_genome(\n",
    "    reference_fn=reference,\n",
    "    variants_fn=snp_variants,\n",
    "    encode=True,\n",
    "    verbose=True  # Show progress\n",
    ")\n",
    "\n",
    "# Check the result\n",
    "print(f\"\\nPersonalized genome chromosomes: {list(personal_genome.keys())}\")\n",
    "print(f\"chr1 encoded shape: {personal_genome['chr1'].shape}\")\n",
    "print(f\"Data type: {type(personal_genome['chr1'])}\")"
   ]
  },
  {
   "cell_type": "markdown",
   "id": "12",
   "metadata": {},
   "source": [
    "## Getting Raw Sequence Strings\n",
    "\n",
    "You can also get the sequences as strings instead of encoded arrays:"
   ]
  },
  {
   "cell_type": "code",
   "execution_count": null,
   "id": "13",
   "metadata": {},
   "outputs": [],
   "source": [
    "# Get raw sequences\n",
    "personal_genome_raw = sl.get_personal_genome(\n",
    "    reference_fn=reference,\n",
    "    variants_fn=snp_variants,\n",
    "    encode=False\n",
    ")\n",
    "\n",
    "# Compare reference and personalized sequences\n",
    "ref_seq = reference['chr1'][:80].seq\n",
    "pers_seq = personal_genome_raw['chr1'][:80]\n",
    "\n",
    "print(\"Reference chr1 (first 80 bp):\")\n",
    "print(ref_seq)\n",
    "print(\"\\nPersonalized chr1 (first 80 bp):\")\n",
    "print(pers_seq)\n",
    "\n",
    "# Highlight the difference\n",
    "print(\"\\nDifferences (position: ref → alt):\")\n",
    "for i, (r, p) in enumerate(zip(ref_seq, pers_seq)):\n",
    "    if r != p:\n",
    "        print(f\"  Position {i}: {r} → {p}\")"
   ]
  },
  {
   "cell_type": "markdown",
   "id": "14",
   "metadata": {},
   "source": [
    "## Generating Variant-Centered Windows\n",
    "\n",
    "Often you want to extract sequence windows centered on each variant, which is useful for model predictions:"
   ]
  },
  {
   "cell_type": "code",
   "execution_count": null,
   "id": "15",
   "metadata": {},
   "outputs": [],
   "source": [
    "# Generate windows around variants\n",
    "ref_seqs, alt_seqs, metadata = sl.get_alt_ref_sequences(\n",
    "    reference_fn=reference,\n",
    "    variants_fn=snp_variants,\n",
    "    seq_len=40,  # 40 bp windows\n",
    "    encode=False  # Get strings for visualization\n",
    ")\n",
    "\n",
    "print(f\"Generated {len(metadata)} sequence pair(s)\")\n",
    "print(\"\\nMetadata:\")\n",
    "print(metadata[0])  # Show first variant metadata\n",
    "\n",
    "print(\"\\nReference sequence:\")\n",
    "print(ref_seqs[0])\n",
    "print(\"\\nAlternate sequence:\")\n",
    "print(alt_seqs[0])\n",
    "\n",
    "# Find the variant position in the window\n",
    "variant_offset = len(ref_seqs[0]) // 2\n",
    "print(f\"\\nVariant is centered at position {variant_offset} in the window\")\n",
    "print(f\"Reference allele: {ref_seqs[0][variant_offset]}\")\n",
    "print(f\"Alternate allele: {alt_seqs[0][variant_offset]}\")"
   ]
  },
  {
   "cell_type": "markdown",
   "id": "16",
   "metadata": {},
   "source": [
    "## Chromosome Name Matching\n",
    "\n",
    "supremo_lite automatically handles chromosome naming differences between VCF and FASTA files (e.g., 'chr1' vs '1', 'chrM' vs 'MT'):"
   ]
  },
  {
   "cell_type": "code",
   "execution_count": null,
   "id": "17",
   "metadata": {},
   "outputs": [],
   "source": [
    "# Example: demonstrate chromosome mapping\n",
    "ref_chroms = {'1', '2', 'X', 'MT'}  # FASTA naming\n",
    "vcf_chroms = {'chr1', 'chr2', 'chrX', 'chrM'}  # VCF naming\n",
    "\n",
    "mapping, unmatched_ref, unmatched_vcf = sl.create_chromosome_mapping(ref_chroms, vcf_chroms)\n",
    "\n",
    "print(\"Chromosome mapping (VCF → FASTA):\")\n",
    "for vcf_chr, ref_chr in mapping.items():\n",
    "    print(f\"  {vcf_chr} → {ref_chr}\")\n",
    "\n",
    "print(f\"\\nUnmatched in reference: {unmatched_ref}\")\n",
    "print(f\"Unmatched in VCF: {unmatched_vcf}\")\n",
    "\n",
    "print(\"\\n✅ supremo_lite handles this automatically in all functions!\")"
   ]
  },
  {
   "cell_type": "markdown",
   "id": "18",
   "metadata": {},
   "source": [
    "## Sequence Utilities\n",
    "\n",
    "supremo_lite provides useful utilities for working with DNA sequences:"
   ]
  },
  {
   "cell_type": "code",
   "execution_count": null,
   "id": "19",
   "metadata": {},
   "outputs": [],
   "source": [
    "# Reverse complement\n",
    "sequence = \"ATCGATCG\"\n",
    "rc_sequence = sl.rc_str(sequence)\n",
    "\n",
    "print(f\"Original:          {sequence}\")\n",
    "print(f\"Reverse complement: {rc_sequence}\")\n",
    "\n",
    "# Encode and decode\n",
    "encoded = sl.encode_seq(sequence)\n",
    "decoded = sl.decode_seq(encoded)\n",
    "\n",
    "print(f\"\\nDecoded matches original: {decoded == sequence}\")\n",
    "\n",
    "# Reverse complement of encoded sequence\n",
    "rc_encoded = sl.rc(encoded)\n",
    "rc_decoded = sl.decode_seq(rc_encoded)\n",
    "\n",
    "print(f\"RC from encoded:   {rc_decoded}\")\n",
    "print(f\"RC from string:    {rc_sequence}\")\n",
    "print(f\"Match: {rc_decoded == rc_sequence}\")"
   ]
  },
  {
   "cell_type": "markdown",
   "id": "20",
   "metadata": {},
   "source": [
    "## Working with Encoded Sequences\n",
    "\n",
    "Let's see how to work with encoded sequences for downstream analysis:"
   ]
  },
  {
   "cell_type": "code",
   "execution_count": null,
   "id": "21",
   "metadata": {},
   "outputs": [],
   "source": [
    "# Generate encoded windows\n",
    "ref_seqs_enc, alt_seqs_enc, metadata = sl.get_alt_ref_sequences(\n",
    "    reference_fn=reference,\n",
    "    variants_fn=snp_variants,\n",
    "    seq_len=40,\n",
    "    encode=True  # Get encoded arrays/tensors\n",
    ")\n",
    "\n",
    "print(f\"Reference sequences shape: {ref_seqs_enc.shape}\")\n",
    "print(f\"Alternate sequences shape: {alt_seqs_enc.shape}\")\n",
    "print(f\"Data type: {type(ref_seqs_enc)}\")\n",
    "\n",
    "# Visualize the first sequence pair\n",
    "fig, (ax1, ax2) = plt.subplots(2, 1, figsize=(12, 6))\n",
    "\n",
    "# Reference sequence\n",
    "im1 = ax1.imshow(ref_seqs_enc[0].T, cmap='Blues', aspect='auto')\n",
    "ax1.set_yticks([0, 1, 2, 3])\n",
    "ax1.set_yticklabels(['A', 'C', 'G', 'T'])\n",
    "ax1.set_title('Reference Sequence (Encoded)')\n",
    "ax1.set_ylabel('Nucleotide')\n",
    "ax1.axvline(x=20, color='red', linestyle='--', alpha=0.5, label='Variant position')\n",
    "ax1.legend()\n",
    "\n",
    "# Alternate sequence\n",
    "im2 = ax2.imshow(alt_seqs_enc[0].T, cmap='Oranges', aspect='auto')\n",
    "ax2.set_yticks([0, 1, 2, 3])\n",
    "ax2.set_yticklabels(['A', 'C', 'G', 'T'])\n",
    "ax2.set_title('Alternate Sequence (Encoded)')\n",
    "ax2.set_xlabel('Position in window')\n",
    "ax2.set_ylabel('Nucleotide')\n",
    "ax2.axvline(x=20, color='red', linestyle='--', alpha=0.5, label='Variant position')\n",
    "ax2.legend()\n",
    "\n",
    "plt.tight_layout()\n",
    "plt.show()\n",
    "\n",
    "print(\"\\nThe variant at position 20 shows different encoding between ref and alt\")"
   ]
  },
  {
   "cell_type": "markdown",
   "id": "22",
   "metadata": {},
   "source": [
    "## Summary\n",
    "\n",
    "In this notebook, you learned:\n",
    "\n",
    "1. ✅ **Installation and imports** - Basic setup for using supremo_lite\n",
    "2. ✅ **One-hot encoding** - How DNA sequences are converted to numerical arrays\n",
    "3. ✅ **Loading data** - Reading reference genomes (FASTA) and variants (VCF)\n",
    "4. ✅ **Personalized genomes** - Applying variants to create modified sequences\n",
    "5. ✅ **Variant windows** - Extracting sequence windows around variants\n",
    "6. ✅ **Chromosome matching** - Automatic handling of naming differences\n",
    "7. ✅ **Sequence utilities** - Reverse complement, encoding/decoding operations\n",
    "\n",
    "## Next Steps\n",
    "\n",
    "Continue with the other notebooks to learn about:\n",
    "- **[02_personalized_genomes.ipynb](02_personalized_genomes.ipynb)** - Deep dive into genome personalization with different variant types\n",
    "- **[03_prediction_alignment.ipynb](03_prediction_alignment.ipynb)** - Using mock models for predictions and alignment\n",
    "- **[04_structural_variants.ipynb](04_structural_variants.ipynb)** - Handling complex structural variants (INV, DUP, BND)\n",
    "- **[05_saturation_mutagenesis.ipynb](05_saturation_mutagenesis.ipynb)** - In-silico mutagenesis workflows"
   ]
  }
 ],
 "metadata": {
  "kernelspec": {
   "display_name": "Python 3",
   "language": "python",
   "name": "python3"
  },
  "language_info": {
   "codemirror_mode": {
    "name": "ipython",
    "version": 3
   },
   "file_extension": ".py",
   "mimetype": "text/x-python",
   "name": "python",
   "nbconvert_exporter": "python",
   "pygments_lexer": "ipython3",
   "version": "3.9.0"
  }
 },
 "nbformat": 4,
 "nbformat_minor": 5
}
