{
 "cells": [
  {
   "cell_type": "markdown",
   "id": "0",
   "metadata": {},
   "source": [
    "# PAM Disruption Analysis: Identifying CRISPR-Resistant Variants\n",
    "\n",
    "Learn how to use supremo_lite to identify genetic variants that disrupt Protospacer Adjacent Motif (PAM) sites, making genomic loci resistant to repeated CRISPR editing.\n",
    "\n",
    "**Example PAM sequences:**\n",
    "- **SpCas9**: NGG (e.g., AGG, TGG, CGG, GGG)\n",
    "- **SaCas9**: NNGRRT (more complex pattern)\n"
   ]
  },
  {
   "cell_type": "markdown",
   "id": "1",
   "metadata": {},
   "source": [
    "## Setup"
   ]
  },
  {
   "cell_type": "code",
   "execution_count": 1,
   "id": "2",
   "metadata": {},
   "outputs": [
    {
     "name": "stdout",
     "output_type": "stream",
     "text": [
      "supremo_lite version: 0.5.4\n",
      "\n",
      "Reference genome loaded: ['chr1', 'chr2', 'chr3', 'chr4', 'chr5', 'chr6']\n",
      "\n",
      "chr6 sequence:\n",
      "AAAGCAAATTCAAATCATCCAAGAATGCCACTTGGAATTTGCGATATTTTTGTTTTTTTTTTTTTAATATTTTACAAAAT\n",
      "                                ^^^\n",
      "PAM sites for SpCas9 (NGG)\n"
     ]
    }
   ],
   "source": [
    "import supremo_lite as sl\n",
    "import numpy as np\n",
    "from pyfaidx import Fasta\n",
    "import pandas as pd\n",
    "import os\n",
    "import re\n",
    "\n",
    "\n",
    "print(f\"supremo_lite version: {sl.__version__}\")\n",
    "\n",
    "# Load test data\n",
    "test_data_dir = \"../../tests/data\"\n",
    "reference = Fasta(os.path.join(test_data_dir, \"test_genome.fa\"))\n",
    "\n",
    "print(f\"\\nReference genome loaded: {list(reference.keys())}\")\n",
    "\n",
    "# Show chr6 sequence\n",
    "chr6_seq = reference['chr6'][:80].seq\n",
    "print(f\"\\nchr6 sequence:\")\n",
    "print(chr6_seq)\n",
    "print(\"                                ^^^\")\n",
    "print(\"PAM sites for SpCas9 (NGG)\")"
   ]
  },
  {
   "cell_type": "markdown",
   "id": "5",
   "metadata": {},
   "source": [
    "## Basic PAM Disruption: SNV Example\n"
   ]
  },
  {
   "cell_type": "code",
   "execution_count": 2,
   "id": "6",
   "metadata": {},
   "outputs": [],
   "source": [
    "# Create a variant that disrupts the NGG PAM\n",
    "variant_snv = pd.DataFrame([{\n",
    "    \"chrom\": \"chr6\",\n",
    "    \"pos1\": 34,\n",
    "    \"id\": \".\",\n",
    "    \"ref\": \"G\",    \n",
    "    \"alt\": \"T\"\n",
    "}])"
   ]
  },
  {
   "cell_type": "markdown",
   "id": "7",
   "metadata": {},
   "source": [
    "## Running PAM Disruption Analysis\n",
    "\n",
    "Now let's use `get_pam_disrupting_alt_sequences()` to identify this PAM-disrupting variant:"
   ]
  },
  {
   "cell_type": "code",
   "execution_count": 4,
   "id": "8",
   "metadata": {},
   "outputs": [
    {
     "name": "stdout",
     "output_type": "stream",
     "text": [
      "PAM Disruption Analysis Results:\n",
      "==================================================\n",
      "Number of PAM-disrupting variants: 1\n",
      "\n",
      "Metadata (first few columns):\n",
      "  chrom  variant_pos1 ref alt pam_ref_sequence pam_alt_sequence  pam_distance\n",
      "0  chr6            34   G   T              TGG              TTG             1\n",
      "\n",
      "\n",
      "Reference sequence (no variant):\n",
      "  0: chr6:23-43\n",
      "      AATGCCACTTGGAATTTGCG\n",
      "\n",
      "Alternate sequence (variant applied):\n",
      "  0: chr6:23-43\n",
      "      AATGCCACTTTGAATTTGCG\n",
      "\n",
      "✓ The TGG PAM in reference becomes TTG in alternate (no longer matches NGG)\n"
     ]
    }
   ],
   "source": [
    "# Run PAM disruption analysis\n",
    "gen_snv = sl.get_pam_disrupting_alt_sequences(\n",
    "    reference_fn=reference,\n",
    "    variants_fn=variant_snv,\n",
    "    seq_len=20,              # 20bp window\n",
    "    max_pam_distance=10,     # Search within 10bp of variant\n",
    "    pam_sequence=\"NGG\",      # SpCas9 PAM\n",
    "    encode=False,            # Get raw strings for visualization\n",
    "    n_chunks=1\n",
    ")\n",
    "\n",
    "# Unpack the generator to get results\n",
    "alt_seqs, ref_seqs, metadata = next(gen_snv)\n",
    "\n",
    "print(\"PAM Disruption Analysis Results:\")\n",
    "print(\"=\" * 50)\n",
    "print(f\"Number of PAM-disrupting variants: {len(metadata)}\")\n",
    "print(f\"\\nMetadata (first few columns):\")\n",
    "print(metadata[['chrom', 'variant_pos1', 'ref', 'alt', 'pam_ref_sequence', 'pam_alt_sequence', 'pam_distance']].to_string())\n",
    "\n",
    "print(f\"\\n\\nReference sequence (no variant):\")\n",
    "for i, (chrom, start, end, seq) in enumerate(ref_seqs):\n",
    "    print(f\"  {i}: {chrom}:{start}-{end}\")\n",
    "    print(f\"      {seq}\")\n",
    "\n",
    "print(f\"\\nAlternate sequence (variant applied):\")\n",
    "for i, (chrom, start, end, seq) in enumerate(alt_seqs):\n",
    "    print(f\"  {i}: {chrom}:{start}-{end}\")  \n",
    "    print(f\"      {seq}\")\n",
    "    \n",
    "print(f\"\\n✓ The TGG PAM in reference becomes TTG in alternate (no longer matches NGG)\")"
   ]
  },
  {
   "cell_type": "markdown",
   "id": "9",
   "metadata": {},
   "source": [
    "## Understanding the Output Structure\n",
    "\n",
    "The function returns a **generator** that yields tuples for memory-efficient processing:\n",
    "\n",
    "```python\n",
    "for alt_seqs, ref_seqs, metadata in get_pam_disrupting_alt_sequences(...):\n",
    "    # Process each chunk\n",
    "    pass\n",
    "\n",
    "# Or get all results at once with n_chunks=1\n",
    "alt_seqs, ref_seqs, metadata = next(get_pam_disrupting_alt_sequences(..., n_chunks=1))\n",
    "```\n",
    "\n",
    "### Return Values\n",
    "\n",
    "Each yield produces a 3-tuple:\n",
    "\n",
    "**1. `alt_seqs`**: Sequences with variant applied\n",
    "- Format when `encode=False`: List of `(chrom, start, end, sequence)` tuples\n",
    "- Format when `encode=True`: Stacked array/tensor of shape `(n_variants, 4, seq_len)`\n",
    "\n",
    "**2. `ref_seqs`**: Reference sequences (no variant)\n",
    "- Same format as `alt_seqs`\n",
    "- Use these as baseline for comparison with variant sequences\n",
    "\n",
    "**3. `metadata`**: DataFrame with comprehensive variant and PAM information\n",
    "\n",
    "### Metadata Columns\n",
    "\n",
    "**Standard variant information:**\n",
    "- `chrom`: Chromosome name\n",
    "- `window_start`, `window_end`: Window boundaries (0-based)\n",
    "- `variant_pos0`, `variant_pos1`: Variant position (0-based and 1-based)\n",
    "- `ref`, `alt`: Reference and alternate alleles\n",
    "- `variant_type`: Variant classification (SNV, INS, DEL, etc.)\n",
    "\n",
    "**PAM-specific information:**\n",
    "- `pam_site_pos`: Position of PAM site within the window (0-based)\n",
    "- `pam_ref_sequence`: PAM sequence in reference (e.g., \"TGG\")\n",
    "- `pam_alt_sequence`: PAM sequence after variant (e.g., \"TTG\")\n",
    "- `pam_distance`: Distance from variant to PAM start\n"
   ]
  },
  {
   "cell_type": "markdown",
   "id": "23",
   "metadata": {},
   "source": [
    "## Next Steps\n",
    "\n",
    "- **[01_getting_started.ipynb](01_getting_started.ipynb)** - Basic supremo_lite functionality\n",
    "- **[02_personalized_genomes.ipynb](02_personalized_genomes.ipynb)** - Genome personalization workflows\n",
    "- **[03_prediction_alignment.ipynb](03_prediction_alignment.ipynb)** - Align model predictions across variants\n",
    "- **[PAM Disruption Guide](../user_guide/pam_disruption.md)** - Detailed documentation and API reference"
   ]
  }
 ],
 "metadata": {
  "kernelspec": {
   "display_name": "Python 3 (ipykernel)",
   "language": "python",
   "name": "python3"
  },
  "language_info": {
   "codemirror_mode": {
    "name": "ipython",
    "version": 3
   },
   "file_extension": ".py",
   "mimetype": "text/x-python",
   "name": "python",
   "nbconvert_exporter": "python",
   "pygments_lexer": "ipython3",
   "version": "3.9.23"
  }
 },
 "nbformat": 4,
 "nbformat_minor": 5
}
