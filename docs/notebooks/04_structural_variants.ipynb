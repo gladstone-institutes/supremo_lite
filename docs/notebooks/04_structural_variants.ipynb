{
 "cells": [
  {
   "cell_type": "markdown",
   "id": "0",
   "metadata": {},
   "source": "# Structural Variant Handling and Prediction Alignment\n\nHow supremo_lite handles complex structural variants (SVs) including inversions (INV), duplications (DUP), and breakends (BND). These variants require special coordinate transformation logic for prediction alignment.\n\n## Learning Objectives\n\n- Inversions (INV): Understand reverse complement operations and cross-pattern masking\n- Duplications (DUP): Learn tandem duplication handling and SVLEN usage\n- Breakends (BND): Explore chimeric reference assembly for translocations\n- 2D Prediction Alignment: Visualize how SVs affect contact map predictions\n- Coordinate Transformations: Master complex genomic coordinate handling\n\n## Structural Variant Types\n\n| Type | Description | Sequence Change | Prediction Impact |\n|------|-------------|-----------------|-------------------|\n| **INV** | Inversion | Reverse complement of region | Cross-pattern masking (2D) |\n| **DUP** | Duplication | Tandem repeat of region | Length increase |\n| **BND** | Breakend/Translocation | Join two distant loci | Chimeric reference |"
  },
  {
   "cell_type": "markdown",
   "id": "1",
   "metadata": {},
   "source": [
    "## Setup"
   ]
  },
  {
   "cell_type": "code",
   "execution_count": null,
   "id": "2",
   "metadata": {},
   "outputs": [],
   "source": [
    "import supremo_lite as sl\n",
    "from supremo_lite.mock_models import TestModel, TestModel2D, TORCH_AVAILABLE\n",
    "import numpy as np\n",
    "import matplotlib.pyplot as plt\n",
    "import seaborn as sns\n",
    "from pyfaidx import Fasta\n",
    "import os\n",
    "\n",
    "sns.set_style(\"whitegrid\")\n",
    "\n",
    "if not TORCH_AVAILABLE:\n",
    "    raise ImportError(\"PyTorch required. Install with: pip install torch\")\n",
    "\n",
    "print(f\"supremo_lite version: {sl.__version__}\")\n",
    "\n",
    "# Load test data\n",
    "test_data_dir = \"../../tests/data\"\n",
    "reference = Fasta(os.path.join(test_data_dir, \"test_genome.fa\"))"
   ]
  },
  {
   "cell_type": "markdown",
   "id": "3",
   "metadata": {},
   "source": [
    "## Part 1: Inversions (INV)\n",
    "\n",
    "Inversions reverse complement a genomic region. This creates unique challenges for prediction alignment."
   ]
  },
  {
   "cell_type": "code",
   "execution_count": null,
   "id": "4",
   "metadata": {},
   "outputs": [],
   "source": "# Load inversion variants\ninv_vcf = os.path.join(test_data_dir, \"inv\", \"inv.vcf\")\ninv_variants = sl.read_vcf(inv_vcf)\n\nprint(\"Inversion variants:\")\nprint(inv_variants[['chrom', 'pos', 'ref', 'alt', 'info']])\n\n# Generate sequences for first inversion\n# Note: get_alt_ref_sequences is a generator that yields chunks\nresults = list(sl.get_alt_ref_sequences(\n    reference_fn=reference,\n    variants_fn=inv_variants.iloc[:1],\n    seq_len=200,\n    encode=True\n))\n\n# Unpack from the first chunk\nalt_seqs, ref_seqs, metadata = results[0]\n\nprint(f\"\\nGenerated sequences for inversion:\")\nprint(f\"  Variant type: {metadata.iloc[0]['variant_type']}\")\nprint(f\"  Position: {metadata.iloc[0]['chrom']}:{metadata.iloc[0]['variant_pos1']}\")\nprint(f\"  Reference allele: {metadata.iloc[0]['ref']}\")\nprint(f\"  Alternate allele: {metadata.iloc[0]['alt']}\")"
  },
  {
   "cell_type": "markdown",
   "id": "5",
   "metadata": {},
   "source": [
    "### Visualizing Inversion Sequence Changes"
   ]
  },
  {
   "cell_type": "code",
   "execution_count": null,
   "id": "6",
   "metadata": {},
   "outputs": [],
   "source": "# Get raw sequences to see the inversion\nresults_raw = list(sl.get_alt_ref_sequences(\n    reference_fn=reference,\n    variants_fn=inv_variants.iloc[:1],\n    seq_len=80,  # Smaller window for visualization\n    encode=False\n))\n\n# Unpack from the first chunk\nalt_raw, ref_raw, _ = results_raw[0]\n\nprint(\"Inversion example (80bp window):\")\nprint(\"=\"*80)\nprint(f\"Reference: {ref_raw[0]}\")\nprint(f\"Alternate: {alt_raw[0]}\")\nprint(\"=\"*80)\n\n# Find the inverted region\n# For <INV> variants, look for the region that's different\nprint(\"\\nLook for the region that's reverse complemented in the alternate sequence!\")"
  },
  {
   "cell_type": "markdown",
   "id": "7",
   "metadata": {},
   "source": [
    "### 2D Predictions for Inversions: Cross-Pattern Masking\n",
    "\n",
    "When a region is inverted, the contact map shows a unique cross-pattern. Both the rows AND columns at the inverted position must be masked."
   ]
  },
  {
   "cell_type": "code",
   "execution_count": null,
   "id": "8",
   "metadata": {},
   "outputs": [],
   "source": "# Initialize 2D model\nmodel_2d = TestModel2D(n_targets=1, bin_size=8, crop_length=10, diag_offset=2)\n\n# Run predictions\nref_preds_2d = model_2d(ref_seqs)\nalt_preds_2d = model_2d(alt_seqs)\n\n# Align predictions\nn_bins = (200 - 2*model_2d.crop_length) // model_2d.bin_size\nref_aligned_2d, alt_aligned_2d = sl.align_predictions_by_coordinate(\n    ref_pred=ref_preds_2d[0, 0],\n    alt_pred=alt_preds_2d[0, 0],\n    metadata=metadata.iloc[0].to_dict(),\n    prediction_type=\"2D\",\n    bin_size=model_2d.bin_size,\n    crop_length=model_2d.crop_length,\n    diag_offset=model_2d.diag_offset,\n    matrix_size=n_bins\n)\n\nprint(f\"2D predictions aligned for inversion\")\nprint(f\"  Matrix shape: {ref_aligned_2d.shape}\")"
  },
  {
   "cell_type": "code",
   "execution_count": null,
   "id": "9",
   "metadata": {},
   "outputs": [],
   "source": "print(\"\\nKey observation:\")\nprint(\"• Right panel shows the cross-pattern (rows AND columns masked)\")\nprint(\"• This is because inversion affects both dimensions in contact space\")\nprint(\"• supremo_lite correctly implements this cross-pattern masking!\")"
  },
  {
   "cell_type": "markdown",
   "id": "10",
   "metadata": {},
   "source": [
    "## Part 2: Duplications (DUP)\n",
    "\n",
    "Duplications create tandem repeats of genomic regions. The VCF INFO field contains SVLEN and END information."
   ]
  },
  {
   "cell_type": "code",
   "execution_count": null,
   "id": "11",
   "metadata": {},
   "outputs": [],
   "source": "# Load duplication variants\ndup_vcf = os.path.join(test_data_dir, \"dup\", \"dup.vcf\")\ndup_variants = sl.read_vcf(dup_vcf)\n\nprint(\"Duplication variants:\")\nprint(dup_variants[['chrom', 'pos', 'ref', 'alt', 'info']])\n\n# Generate sequences\nresults_dup = list(sl.get_alt_ref_sequences(\n    reference_fn=reference,\n    variants_fn=dup_variants.iloc[:1],\n    seq_len=200,\n    encode=True\n))\n\n# Unpack from the first chunk\nalt_seqs_dup, ref_seqs_dup, metadata_dup = results_dup[0]\n\nprint(f\"\\nDuplication metadata:\")\nprint(metadata_dup.iloc[0].to_dict())"
  },
  {
   "cell_type": "markdown",
   "id": "12",
   "metadata": {},
   "source": [
    "### Visualizing Duplication Effects"
   ]
  },
  {
   "cell_type": "code",
   "execution_count": null,
   "id": "13",
   "metadata": {},
   "outputs": [],
   "source": "# Get raw sequences\nresults_dup_raw = list(sl.get_alt_ref_sequences(\n    reference_fn=reference,\n    variants_fn=dup_variants.iloc[:1],\n    seq_len=120,\n    encode=False\n))\n\n# Unpack from the first chunk\nalt_dup_raw, ref_dup_raw, _ = results_dup_raw[0]\n\nprint(\"Duplication example:\")\nprint(\"=\"*80)\nprint(f\"Reference: {ref_dup_raw[0]}\")\nprint(f\"Alternate: {alt_dup_raw[0]}\")\nprint(\"=\"*80)\nprint(f\"\\nReference length: {len(ref_dup_raw[0])}\")\nprint(f\"Alternate length: {len(alt_dup_raw[0])}\")\nprint(f\"Length difference: +{len(alt_dup_raw[0]) - len(ref_dup_raw[0])} bp (duplicated region)\")"
  },
  {
   "cell_type": "markdown",
   "id": "14",
   "metadata": {},
   "source": [
    "### 1D Prediction Alignment for Duplications"
   ]
  },
  {
   "cell_type": "code",
   "execution_count": null,
   "id": "15",
   "metadata": {},
   "outputs": [],
   "source": "print(\"\\nDuplication alignment:\")\nprint(\"• Reference sequence has predictions at all positions\")\nprint(\"• Alternate has NaN bins where duplication inserted new bases\")\nprint(\"• This maintains coordinate correspondence for comparison\")"
  },
  {
   "cell_type": "markdown",
   "id": "16",
   "metadata": {},
   "source": [
    "## Part 3: Breakends (BND)\n",
    "\n",
    "Breakends represent translocations where two distant genomic loci are joined. supremo_lite creates a **chimeric reference** sequence from both breakpoints."
   ]
  },
  {
   "cell_type": "code",
   "execution_count": null,
   "id": "17",
   "metadata": {},
   "outputs": [],
   "source": [
    "# Load breakend variants\n",
    "bnd_vcf = os.path.join(test_data_dir, \"bnd\", \"bnd.vcf\")\n",
    "bnd_variants = sl.read_vcf(bnd_vcf)\n",
    "\n",
    "print(\"Breakend variants:\")\n",
    "print(bnd_variants[['chrom', 'pos', 'ref', 'alt', 'info']])\n",
    "\n",
    "# BNDs are processed together as pairs\n",
    "print(\"\\nNote: BND variants come in pairs that define a translocation\")"
   ]
  },
  {
   "cell_type": "markdown",
   "id": "18",
   "metadata": {},
   "source": [
    "### Generating Chimeric References for BNDs"
   ]
  },
  {
   "cell_type": "code",
   "execution_count": null,
   "id": "19",
   "metadata": {},
   "outputs": [],
   "source": "# Generate sequences for BND\nresults_bnd = list(sl.get_alt_ref_sequences(\n    reference_fn=reference,\n    variants_fn=bnd_variants,\n    seq_len=200,\n    encode=True\n))\n\n# Unpack from the first chunk\nalt_seqs_bnd, ref_seqs_bnd, metadata_bnd = results_bnd[0]\n\nprint(f\"Generated {len(metadata_bnd)} BND sequence(s)\")\n\n# Examine BND metadata\nfor i in range(len(metadata_bnd)):\n    meta = metadata_bnd.iloc[i].to_dict()\n    print(f\"\\nBND {i+1} metadata:\")\n    print(f\"  Variant type: {meta['variant_type']}\")\n    print(f\"  Chromosome 1: {meta['chrom']}\")\n    print(f\"  Position 1: {meta['variant_pos1']}\")\n    if 'mate_chrom' in meta:\n        print(f\"  Chromosome 2: {meta['mate_chrom']}\")\n        print(f\"  Position 2: {meta['mate_pos']}\")\n        print(f\"  Fusion name: {meta.get('fusion_name', 'N/A')}\")"
  },
  {
   "cell_type": "markdown",
   "id": "20",
   "metadata": {},
   "source": [
    "### Visualizing BND Chimeric Sequences"
   ]
  },
  {
   "cell_type": "code",
   "execution_count": null,
   "id": "21",
   "metadata": {},
   "outputs": [],
   "source": "# Get raw BND sequences\nresults_bnd_raw = list(sl.get_alt_ref_sequences(\n    reference_fn=reference,\n    variants_fn=bnd_variants,\n    seq_len=80,\n    encode=False\n))\n\n# Unpack from the first chunk\nalt_bnd_raw, ref_bnd_raw, meta_bnd_raw = results_bnd_raw[0]\n\nif len(ref_bnd_raw) > 0:\n    print(\"BND chimeric reference example:\")\n    print(\"=\"*80)\n    print(f\"Reference (chimeric): {ref_bnd_raw[0]}\")\n    print(f\"Alternate (fusion):   {alt_bnd_raw[0]}\")\n    print(\"=\"*80)\n    print(\"\\nThe reference is a chimera joining two genomic loci!\")\n    print(\"This allows prediction comparison at the breakpoint.\")"
  },
  {
   "cell_type": "markdown",
   "id": "22",
   "metadata": {},
   "source": [
    "### 2D Contact Maps for BND Fusions"
   ]
  },
  {
   "cell_type": "code",
   "execution_count": null,
   "id": "23",
   "metadata": {},
   "outputs": [],
   "source": "if len(ref_seqs_bnd) > 0:\n    # Run 2D predictions on BND\n    model_2d_bnd = TestModel2D(n_targets=1, bin_size=8, crop_length=10, diag_offset=2)\n    ref_preds_bnd_2d = model_2d_bnd(ref_seqs_bnd[:1])\n    alt_preds_bnd_2d = model_2d_bnd(alt_seqs_bnd[:1])\n    \n    # Align\n    n_bins = (200 - 2*model_2d_bnd.crop_length) // model_2d_bnd.bin_size\n    ref_aligned_bnd, alt_aligned_bnd = sl.align_predictions_by_coordinate(\n        ref_pred=ref_preds_bnd_2d[0, 0],\n        alt_pred=alt_preds_bnd_2d[0, 0],\n        metadata=metadata_bnd.iloc[0].to_dict(),\n        prediction_type=\"2D\",\n        bin_size=model_2d_bnd.bin_size,\n        crop_length=model_2d_bnd.crop_length,\n        diag_offset=model_2d_bnd.diag_offset,\n        matrix_size=n_bins\n    )\n    \n    # Visualize\n    ref_bnd_np = ref_aligned_bnd.cpu().numpy() if hasattr(ref_aligned_bnd, 'cpu') else ref_aligned_bnd\n    alt_bnd_np = alt_aligned_bnd.cpu().numpy() if hasattr(alt_aligned_bnd, 'cpu') else alt_aligned_bnd\n    \n    fig, axes = plt.subplots(1, 2, figsize=(14, 6))\n    \n    im1 = axes[0].imshow(ref_bnd_np, cmap='Reds', vmin=0, vmax=1, origin='lower')\n    axes[0].set_title('Chimeric Reference Contact Map', fontsize=12, fontweight='bold')\n    axes[0].set_xlabel('Bin position')\n    axes[0].set_ylabel('Bin position')\n    plt.colorbar(im1, ax=axes[0], label='Contact')\n    \n    im2 = axes[1].imshow(alt_bnd_np, cmap='Blues', vmin=0, vmax=1, origin='lower')\n    axes[1].set_title('Fusion Alternate Contact Map', fontsize=12, fontweight='bold')\n    axes[1].set_xlabel('Bin position')\n    axes[1].set_ylabel('Bin position')\n    plt.colorbar(im2, ax=axes[1], label='Contact')\n    \n    fusion_name = metadata_bnd.iloc[0].to_dict().get('fusion_name', 'Unknown')\n    fig.suptitle(f'BND/Translocation Contact Maps: {fusion_name}', fontsize=14, fontweight='bold')\n    plt.tight_layout()\n    plt.show()\n    \n    print(\"\\nBND contact map interpretation:\")\n    print(\"• Left: Chimeric reference joining two loci\")\n    print(\"• Right: Fusion alternate sequence\")\n    print(\"• Contact patterns show interactions across the breakpoint\")\nelse:\n    print(\"No paired BND variants found for visualization\")"
  },
  {
   "cell_type": "markdown",
   "id": "24",
   "metadata": {},
   "source": [
    "## Comparing All SV Types\n",
    "\n",
    "Let's create a summary comparison of how each SV type affects predictions:"
   ]
  },
  {
   "cell_type": "code",
   "execution_count": null,
   "id": "25",
   "metadata": {},
   "outputs": [],
   "source": [
    "# Summary table\n",
    "import pandas as pd\n",
    "\n",
    "sv_summary = pd.DataFrame([\n",
    "    {\n",
    "        'SV Type': 'INV',\n",
    "        'Sequence Change': 'Reverse complement',\n",
    "        'Length Change': 0,\n",
    "        '1D Masking': 'Affected bins',\n",
    "        '2D Masking': 'Cross-pattern (rows + cols)',\n",
    "        'Key Challenge': 'Coordinate reversal'\n",
    "    },\n",
    "    {\n",
    "        'SV Type': 'DUP',\n",
    "        'Sequence Change': 'Tandem repeat',\n",
    "        'Length Change': '+SVLEN',\n",
    "        '1D Masking': 'Inserted bins',\n",
    "        '2D Masking': 'Rows + cols at insertion',\n",
    "        'Key Challenge': 'Length increase'\n",
    "    },\n",
    "    {\n",
    "        'SV Type': 'BND',\n",
    "        'Sequence Change': 'Chimeric fusion',\n",
    "        'Length Change': 'Varies',\n",
    "        '1D Masking': 'Context-dependent',\n",
    "        '2D Masking': 'Context-dependent',\n",
    "        'Key Challenge': 'Distant loci joining'\n",
    "    }\n",
    "])\n",
    "\n",
    "print(\"\\nStructural Variant Summary:\")\n",
    "print(sv_summary.to_string(index=False))\n",
    "\n",
    "print(\"\\n\" + \"=\"*80)\n",
    "print(\"KEY INSIGHTS:\")\n",
    "print(\"=\"*80)\n",
    "print(\"\\n1. INV: Cross-pattern masking is crucial for 2D predictions\")\n",
    "print(\"   - Both rows AND columns must be masked at inversion site\")\n",
    "print(\"   - Implemented correctly in Phase 1.1 of supremo_lite development\")\n",
    "\n",
    "print(\"\\n2. DUP: Length changes require NaN padding for alignment\")\n",
    "print(\"   - Reference gets NaN bins where duplication adds bases\")\n",
    "print(\"   - Maintains genomic coordinate correspondence\")\n",
    "\n",
    "print(\"\\n3. BND: Chimeric reference enables breakpoint analysis\")\n",
    "print(\"   - Reference assembled from two distant loci\")\n",
    "print(\"   - Allows prediction comparison at fusion junction\")\n",
    "\n",
    "print(\"\\n4. All SVs: align_predictions_by_coordinate() handles them correctly!\")\n",
    "print(\"   - Automatic detection of SV type from metadata\")\n",
    "print(\"   - Appropriate masking strategy applied\")\n",
    "print(\"   - Returns comparable predictions for analysis\")"
   ]
  },
  {
   "cell_type": "markdown",
   "id": "26",
   "metadata": {},
   "source": [
    "## Best Practices for SV Analysis\n",
    "\n",
    "### 1. **Always check metadata**\n",
    "```python\n",
    "# SV metadata contains critical information\n",
    "print(metadata[0]['variant_type'])  # SV_INV, SV_DUP, SV_BND, etc.\n",
    "if 'sym_variant_end' in metadata[0]:\n",
    "    print(f\"SV spans: {metadata[0]['variant_pos1']} - {metadata[0]['sym_variant_end']}\")\n",
    "```\n",
    "\n",
    "### 2. **Use appropriate window sizes**\n",
    "```python\n",
    "# For large SVs, use larger windows\n",
    "if variant_type.startswith('SV_'):\n",
    "    seq_len = 500  # Larger window for SVs\n",
    "else:\n",
    "    seq_len = 200  # Standard window\n",
    "```\n",
    "\n",
    "### 3. **Verify alignment visually**\n",
    "```python\n",
    "# Always plot results for SVs\n",
    "# Check for expected masking patterns\n",
    "# INV: Cross-pattern in 2D\n",
    "# DUP/DEL: NaN regions in affected sequence\n",
    "```\n",
    "\n",
    "### 4. **Handle NaN values properly**\n",
    "```python\n",
    "# Use masked arrays or nanmean for statistics\n",
    "import numpy as np\n",
    "valid_diffs = diff[~np.isnan(diff)]\n",
    "mean_effect = np.nanmean(np.abs(valid_diffs))\n",
    "```"
   ]
  },
  {
   "cell_type": "markdown",
   "id": "27",
   "metadata": {},
   "source": "## Summary\n\nIn this notebook, you learned advanced structural variant handling:\n\n1. Inversions (INV) - Reverse complement and cross-pattern masking\n2. Duplications (DUP) - Tandem repeats and SVLEN handling\n3. Breakends (BND) - Chimeric references for translocations\n4. 2D Alignment - Complex masking strategies for contact maps\n5. Coordinate Transforms - Maintaining genomic correspondence\n6. Visualization - Interpreting SV effects on predictions\n7. Best Practices - Guidelines for robust SV analysis\n\nsupremo_lite handles all these complex cases automatically through `align_predictions_by_coordinate()`.\n\n## Next Steps\n\n- **[05_saturation_mutagenesis.ipynb](05_saturation_mutagenesis.ipynb)** - Systematic mutagenesis and prediction analysis\n- **[User Guide: Prediction Alignment](../user_guide/prediction_alignment.md)** - Detailed documentation on alignment strategies"
  }
 ],
 "metadata": {
  "kernelspec": {
   "display_name": "Python 3",
   "language": "python",
   "name": "python3"
  },
  "language_info": {
   "codemirror_mode": {
    "name": "ipython",
    "version": 3
   },
   "file_extension": ".py",
   "mimetype": "text/x-python",
   "name": "python",
   "nbconvert_exporter": "python",
   "pygments_lexer": "ipython3",
   "version": "3.9.0"
  }
 },
 "nbformat": 4,
 "nbformat_minor": 5
}